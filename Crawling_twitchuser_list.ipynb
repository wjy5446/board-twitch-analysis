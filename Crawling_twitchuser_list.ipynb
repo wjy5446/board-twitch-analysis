{
 "cells": [
  {
   "cell_type": "code",
   "execution_count": 1,
   "metadata": {
    "collapsed": true
   },
   "outputs": [],
   "source": [
    "import requests\n",
    "from tqdm import tqdm_notebook\n",
    "import time\n",
    "import pickle"
   ]
  },
  {
   "cell_type": "markdown",
   "metadata": {},
   "source": [
    "### Get token"
   ]
  },
  {
   "cell_type": "code",
   "execution_count": 2,
   "metadata": {
    "collapsed": true
   },
   "outputs": [],
   "source": [
    "url_token =  'https://id.twitch.tv/oauth2/authorize?response_type=token&client_id=jh0fr7g4isys0t2fmviygsvk7ez3l9&redirect_uri=http://localhost&scope=channel_read'"
   ]
  },
  {
   "cell_type": "markdown",
   "metadata": {},
   "source": [
    "### Get User List"
   ]
  },
  {
   "cell_type": "code",
   "execution_count": 3,
   "metadata": {
    "collapsed": true
   },
   "outputs": [],
   "source": [
    "df_streamList = pd.read_csv(\"data/streamList.csv\")\n",
    "li_channelID = df_streamList.user_id.tolist()"
   ]
  },
  {
   "cell_type": "code",
   "execution_count": 4,
   "metadata": {},
   "outputs": [
    {
     "data": {
      "text/html": [
       "<div>\n",
       "<style>\n",
       "    .dataframe thead tr:only-child th {\n",
       "        text-align: right;\n",
       "    }\n",
       "\n",
       "    .dataframe thead th {\n",
       "        text-align: left;\n",
       "    }\n",
       "\n",
       "    .dataframe tbody tr th {\n",
       "        vertical-align: top;\n",
       "    }\n",
       "</style>\n",
       "<table border=\"1\" class=\"dataframe\">\n",
       "  <thead>\n",
       "    <tr style=\"text-align: right;\">\n",
       "      <th></th>\n",
       "      <th>user_name</th>\n",
       "      <th>user_id</th>\n",
       "      <th>Nickname</th>\n",
       "      <th>Link</th>\n",
       "    </tr>\n",
       "  </thead>\n",
       "  <tbody>\n",
       "    <tr>\n",
       "      <th>245</th>\n",
       "      <td>soming1907</td>\n",
       "      <td>138029395</td>\n",
       "      <td>소밍</td>\n",
       "      <td>/c/138029395-soming1907</td>\n",
       "    </tr>\n",
       "    <tr>\n",
       "      <th>246</th>\n",
       "      <td>munchikinhwa</td>\n",
       "      <td>102522459</td>\n",
       "      <td>먼치킨화</td>\n",
       "      <td>/c/102522459-munchikinhwa</td>\n",
       "    </tr>\n",
       "    <tr>\n",
       "      <th>247</th>\n",
       "      <td>innovation_s2</td>\n",
       "      <td>48460548</td>\n",
       "      <td>이노베이션</td>\n",
       "      <td>/c/48460548-innovation_s2</td>\n",
       "    </tr>\n",
       "    <tr>\n",
       "      <th>248</th>\n",
       "      <td>myosonge</td>\n",
       "      <td>137962705</td>\n",
       "      <td>묘송이</td>\n",
       "      <td>/c/137962705-myosonge</td>\n",
       "    </tr>\n",
       "    <tr>\n",
       "      <th>249</th>\n",
       "      <td>gj7dudwo</td>\n",
       "      <td>137432936</td>\n",
       "      <td>A후라</td>\n",
       "      <td>/c/137432936-gj7dudwo</td>\n",
       "    </tr>\n",
       "  </tbody>\n",
       "</table>\n",
       "</div>"
      ],
      "text/plain": [
       "         user_name    user_id Nickname                       Link\n",
       "245     soming1907  138029395       소밍    /c/138029395-soming1907\n",
       "246   munchikinhwa  102522459     먼치킨화  /c/102522459-munchikinhwa\n",
       "247  innovation_s2   48460548    이노베이션  /c/48460548-innovation_s2\n",
       "248       myosonge  137962705      묘송이      /c/137962705-myosonge\n",
       "249       gj7dudwo  137432936      A후라      /c/137432936-gj7dudwo"
      ]
     },
     "execution_count": 4,
     "metadata": {},
     "output_type": "execute_result"
    }
   ],
   "source": [
    "df_streamList.tail()"
   ]
  },
  {
   "cell_type": "code",
   "execution_count": 5,
   "metadata": {
    "collapsed": true
   },
   "outputs": [],
   "source": [
    "header = {\n",
    "    \"Accept\" : \"application/vnd.twitchtv.v5+json\",\n",
    "    \"Client-ID\" : \"jh0fr7g4isys0t2fmviygsvk7ez3l9\",\n",
    "}"
   ]
  },
  {
   "cell_type": "code",
   "execution_count": 6,
   "metadata": {
    "collapsed": true
   },
   "outputs": [],
   "source": [
    "# df_user_list = pd.DataFrame(columns = [\"id\", \"name\"])"
   ]
  },
  {
   "cell_type": "markdown",
   "metadata": {},
   "source": [
    "250명의 스트림머의 follower 1000명씩 가져오기"
   ]
  },
  {
   "cell_type": "code",
   "execution_count": 7,
   "metadata": {
    "collapsed": true
   },
   "outputs": [],
   "source": [
    "# for channel in tqdm_notebook(li_channelID):\n",
    "#     for page in range(10):\n",
    "#         url_follow = \"https://api.twitch.tv/kraken/channels/\" + str(channel) + \"/follows?limit=100&offset=\" + str(page)\n",
    "#         response_follow = requests.get(url_follow, headers = header)\n",
    "\n",
    "#         res_json = response_follow.json()\n",
    "\n",
    "#         for idx in range(len(res_json[\"follows\"])):\n",
    "#             user_id = res_json[\"follows\"][idx][\"user\"][\"_id\"]\n",
    "#             user_name = res_json[\"follows\"][idx][\"user\"][\"name\"]\n",
    "#             df_user_list.loc[len(df_user_list)] = {\"id\" : user_id, \"name\" : user_name}"
   ]
  },
  {
   "cell_type": "code",
   "execution_count": 8,
   "metadata": {
    "collapsed": true
   },
   "outputs": [],
   "source": [
    "# df_list.to_csv(\"data/user_list_all.csv\", index = False)"
   ]
  },
  {
   "cell_type": "code",
   "execution_count": 9,
   "metadata": {
    "collapsed": true
   },
   "outputs": [],
   "source": [
    "df_user_list = pd.read_csv(\"data/user_list_all.csv\")"
   ]
  },
  {
   "cell_type": "code",
   "execution_count": 10,
   "metadata": {},
   "outputs": [
    {
     "data": {
      "text/plain": [
       "(250000, 2)"
      ]
     },
     "execution_count": 10,
     "metadata": {},
     "output_type": "execute_result"
    }
   ],
   "source": [
    "df_user_list.shape"
   ]
  },
  {
   "cell_type": "markdown",
   "metadata": {},
   "source": [
    "### unique user list 뽑기"
   ]
  },
  {
   "cell_type": "code",
   "execution_count": 11,
   "metadata": {
    "collapsed": true
   },
   "outputs": [],
   "source": [
    "# df_unique_user = df_user_list.drop_duplicates(subset=['id']).reset_index(drop=True)"
   ]
  },
  {
   "cell_type": "code",
   "execution_count": 12,
   "metadata": {
    "collapsed": true
   },
   "outputs": [],
   "source": [
    "# df_unique_user.to_csv(\"data/unique_user_list.csv\", index = False)"
   ]
  },
  {
   "cell_type": "code",
   "execution_count": 13,
   "metadata": {
    "collapsed": true
   },
   "outputs": [],
   "source": [
    "df_unique_user = pd.read_csv(\"data/unique_user_list.csv\")"
   ]
  },
  {
   "cell_type": "markdown",
   "metadata": {},
   "source": [
    "### Get follower list by the user"
   ]
  },
  {
   "cell_type": "code",
   "execution_count": 14,
   "metadata": {},
   "outputs": [
    {
     "data": {
      "text/plain": [
       "21815"
      ]
     },
     "execution_count": 14,
     "metadata": {},
     "output_type": "execute_result"
    }
   ],
   "source": [
    "li_unique_user = df_unique_user.id.tolist()\n",
    "len(li_unique_user)"
   ]
  },
  {
   "cell_type": "code",
   "execution_count": 194,
   "metadata": {
    "collapsed": true
   },
   "outputs": [],
   "source": [
    "df_user_following = pd.DataFrame(columns = [\"id\", \"following_list\"])"
   ]
  },
  {
   "cell_type": "code",
   "execution_count": 58,
   "metadata": {},
   "outputs": [
    {
     "data": {
      "application/vnd.jupyter.widget-view+json": {
       "model_id": "2e1473af333c48afa7d88de58180d370",
       "version_major": 2,
       "version_minor": 0
      },
      "text/html": [
       "<p>Failed to display Jupyter Widget of type <code>HBox</code>.</p>\n",
       "<p>\n",
       "  If you're reading this message in the Jupyter Notebook or JupyterLab Notebook, it may mean\n",
       "  that the widgets JavaScript is still loading. If this message persists, it\n",
       "  likely means that the widgets JavaScript library is either not installed or\n",
       "  not enabled. See the <a href=\"https://ipywidgets.readthedocs.io/en/stable/user_install.html\">Jupyter\n",
       "  Widgets Documentation</a> for setup instructions.\n",
       "</p>\n",
       "<p>\n",
       "  If you're reading this message in another frontend (for example, a static\n",
       "  rendering on GitHub or <a href=\"https://nbviewer.jupyter.org/\">NBViewer</a>),\n",
       "  it may mean that your frontend doesn't currently support widgets.\n",
       "</p>\n"
      ],
      "text/plain": [
       "HBox(children=(IntProgress(value=1, bar_style='info', max=1), HTML(value='')))"
      ]
     },
     "metadata": {},
     "output_type": "display_data"
    },
    {
     "name": "stdout",
     "output_type": "stream",
     "text": [
      "\n"
     ]
    }
   ],
   "source": [
    "for user_id in tqdm_notebook(c):\n",
    "    url_followlist = \"https://api.twitch.tv/helix/users/follows?from_id=\" + str(user_id) + \"&first=100\"\n",
    "    response_followlist = requests.get(url_followlist, headers = header)\n",
    "    res_json = response_followlist.json()\n",
    "    \n",
    "    try :\n",
    "        # follower 갯수 받아오기\n",
    "        num_following = res_json[\"total\"]\n",
    "        # follower 리스트 받아오기\n",
    "        li_following = []\n",
    "        bIter = True\n",
    "        while(bIter == True):\n",
    "            # set iterate number\n",
    "            if(num_following > 100):\n",
    "                num_iter = 100\n",
    "                num_following -= 100\n",
    "                cursor = res_json[\"pagination\"][\"cursor\"]\n",
    "            else: \n",
    "                num_iter = num_following\n",
    "                bIter = False\n",
    "\n",
    "            # get follower list\n",
    "            for idx_following in range(len(res_json['data'])):\n",
    "                li_following.append(res_json['data'][idx_following][\"to_id\"])\n",
    "            \n",
    "           # url 다시 가져오기\n",
    "            if(bIter==True):\n",
    "                url_followlist = \"https://api.twitch.tv/helix/users/follows?from_id=\" + str(user_id) + \"&first=100&after=\" + str(cursor)\n",
    "                response_followlist = requests.get(url_followlist, headers = header)\n",
    "                res_json = response_followlist.json()\n",
    "\n",
    "        following_list = \",\".join(li_following)\n",
    "\n",
    "        df_user_following.loc[len(df_user_following)] = {\"id\" : user_id, \"following_list\" : following_list}\n",
    "    \n",
    "        time.sleep(1)\n",
    "        \n",
    "    except Exception as e:\n",
    "        print(e)\n",
    "        time.sleep(10)\n",
    "        pass"
   ]
  },
  {
   "cell_type": "code",
   "execution_count": 187,
   "metadata": {},
   "outputs": [
    {
     "data": {
      "text/plain": [
       "id                 0\n",
       "following_list    12\n",
       "dtype: int64"
      ]
     },
     "execution_count": 187,
     "metadata": {},
     "output_type": "execute_result"
    }
   ],
   "source": [
    "df_user_following.isnull().sum()"
   ]
  },
  {
   "cell_type": "code",
   "execution_count": 191,
   "metadata": {
    "collapsed": true
   },
   "outputs": [],
   "source": [
    "tmp = df_user_following.dropna()"
   ]
  },
  {
   "cell_type": "code",
   "execution_count": 192,
   "metadata": {
    "collapsed": true
   },
   "outputs": [],
   "source": [
    "# tmp.to_csv(\"data/user_following_list.csv\", index = False)"
   ]
  },
  {
   "cell_type": "code",
   "execution_count": null,
   "metadata": {
    "collapsed": true
   },
   "outputs": [],
   "source": [
    "df_user_following = pd.read_csv(\"data/user_following_list.csv\")"
   ]
  },
  {
   "cell_type": "markdown",
   "metadata": {},
   "source": [
    "### Streamer list"
   ]
  },
  {
   "cell_type": "code",
   "execution_count": 17,
   "metadata": {
    "collapsed": true
   },
   "outputs": [],
   "source": [
    "li_folowing_list = df_user_following.following_list.tolist()"
   ]
  },
  {
   "cell_type": "code",
   "execution_count": 33,
   "metadata": {},
   "outputs": [
    {
     "data": {
      "application/vnd.jupyter.widget-view+json": {
       "model_id": "6788f628ec574836a62596243fdd0003",
       "version_major": 2,
       "version_minor": 0
      },
      "text/html": [
       "<p>Failed to display Jupyter Widget of type <code>HBox</code>.</p>\n",
       "<p>\n",
       "  If you're reading this message in the Jupyter Notebook or JupyterLab Notebook, it may mean\n",
       "  that the widgets JavaScript is still loading. If this message persists, it\n",
       "  likely means that the widgets JavaScript library is either not installed or\n",
       "  not enabled. See the <a href=\"https://ipywidgets.readthedocs.io/en/stable/user_install.html\">Jupyter\n",
       "  Widgets Documentation</a> for setup instructions.\n",
       "</p>\n",
       "<p>\n",
       "  If you're reading this message in another frontend (for example, a static\n",
       "  rendering on GitHub or <a href=\"https://nbviewer.jupyter.org/\">NBViewer</a>),\n",
       "  it may mean that your frontend doesn't currently support widgets.\n",
       "</p>\n"
      ],
      "text/plain": [
       "HBox(children=(IntProgress(value=0, max=21815), HTML(value='')))"
      ]
     },
     "metadata": {},
     "output_type": "display_data"
    },
    {
     "name": "stdout",
     "output_type": "stream",
     "text": [
      "\n",
      "\n"
     ]
    }
   ],
   "source": [
    "li_streamer_list = []\n",
    "for element in tqdm_notebook(li_folowing_list):\n",
    "    try :\n",
    "        li_streamer_list += str(element).split(\",\")\n",
    "        li_streamer_list = list(set(li_streamer_list))\n",
    "    except Exception:\n",
    "        print(element)"
   ]
  },
  {
   "cell_type": "code",
   "execution_count": 162,
   "metadata": {
    "collapsed": true
   },
   "outputs": [],
   "source": [
    "with open(\"data/streamer_list.p\", \"rb\") as f:\n",
    "    li_streamer_list = pickle.load(f)"
   ]
  },
  {
   "cell_type": "code",
   "execution_count": 167,
   "metadata": {
    "collapsed": true
   },
   "outputs": [],
   "source": [
    "df_stream_info = pd.DataFrame(columns = [\"id\", \"nickname\", \"name\"])"
   ]
  },
  {
   "cell_type": "code",
   "execution_count": 168,
   "metadata": {},
   "outputs": [
    {
     "data": {
      "application/vnd.jupyter.widget-view+json": {
       "model_id": "4264fdbcdc6c44b9b825ff674bef54b3",
       "version_major": 2,
       "version_minor": 0
      },
      "text/html": [
       "<p>Failed to display Jupyter Widget of type <code>HBox</code>.</p>\n",
       "<p>\n",
       "  If you're reading this message in the Jupyter Notebook or JupyterLab Notebook, it may mean\n",
       "  that the widgets JavaScript is still loading. If this message persists, it\n",
       "  likely means that the widgets JavaScript library is either not installed or\n",
       "  not enabled. See the <a href=\"https://ipywidgets.readthedocs.io/en/stable/user_install.html\">Jupyter\n",
       "  Widgets Documentation</a> for setup instructions.\n",
       "</p>\n",
       "<p>\n",
       "  If you're reading this message in another frontend (for example, a static\n",
       "  rendering on GitHub or <a href=\"https://nbviewer.jupyter.org/\">NBViewer</a>),\n",
       "  it may mean that your frontend doesn't currently support widgets.\n",
       "</p>\n"
      ],
      "text/plain": [
       "HBox(children=(IntProgress(value=0, max=2675), HTML(value='')))"
      ]
     },
     "metadata": {},
     "output_type": "display_data"
    },
    {
     "name": "stdout",
     "output_type": "stream",
     "text": [
      "wait 'display_name'\n",
      "wait HTTPSConnectionPool(host='api.twitch.tv', port=443): Max retries exceeded with url: /kraken/channels/143546995 (Caused by NewConnectionError('<urllib3.connection.VerifiedHTTPSConnection object at 0x000001924D478B00>: Failed to establish a new connection: [WinError 10060] 연결된 구성원으로부터 응답이 없어 연결하지 못했거나, 호스트로부터 응답이 없어 연결이 끊어졌습니다',))\n",
      "wait HTTPSConnectionPool(host='api.twitch.tv', port=443): Max retries exceeded with url: /kraken/channels/117037009 (Caused by NewConnectionError('<urllib3.connection.VerifiedHTTPSConnection object at 0x000001924B847668>: Failed to establish a new connection: [WinError 10060] 연결된 구성원으로부터 응답이 없어 연결하지 못했거나, 호스트로부터 응답이 없어 연결이 끊어졌습니다',))\n",
      "wait 'display_name'\n",
      "wait HTTPSConnectionPool(host='api.twitch.tv', port=443): Max retries exceeded with url: /kraken/channels/78711184 (Caused by NewConnectionError('<urllib3.connection.VerifiedHTTPSConnection object at 0x000001924B8477B8>: Failed to establish a new connection: [WinError 10060] 연결된 구성원으로부터 응답이 없어 연결하지 못했거나, 호스트로부터 응답이 없어 연결이 끊어졌습니다',))\n",
      "\n"
     ]
    }
   ],
   "source": [
    "for stream_id in tqdm_notebook(li_streamer_list):\n",
    "    try :\n",
    "        url_channel_info = \"https://api.twitch.tv/kraken/channels/\" + str(stream_id)\n",
    "        response_channel_info = requests.get(url_channel_info, headers = header)\n",
    "        res_json = response_channel_info.json()\n",
    "        \n",
    "        if res_json[\"error\"] == 'Unprocessable Entity':\n",
    "            unentity_list.append(stream_id)\n",
    "            continue\n",
    "        user_id = stream_id\n",
    "        nickname = res_json[\"display_name\"]\n",
    "        name = res_json[\"name\"]\n",
    "\n",
    "        df_stream_info.loc[len(df_stream_info)] = {\"id\" : user_id, \"nickname\" : nickname, \"name\" : name}\n",
    "        time.sleep(1)\n",
    "    except Exception as e:\n",
    "        print(\"wait\", e)\n",
    "        time.sleep(10)"
   ]
  }
 ],
 "metadata": {
  "kernelspec": {
   "display_name": "Python 3",
   "language": "python",
   "name": "python3"
  },
  "language_info": {
   "codemirror_mode": {
    "name": "ipython",
    "version": 3
   },
   "file_extension": ".py",
   "mimetype": "text/x-python",
   "name": "python",
   "nbconvert_exporter": "python",
   "pygments_lexer": "ipython3",
   "version": "3.6.3"
  }
 },
 "nbformat": 4,
 "nbformat_minor": 2
}
