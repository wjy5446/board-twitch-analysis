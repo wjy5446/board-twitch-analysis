{
 "cells": [
  {
   "cell_type": "code",
   "execution_count": 5,
   "metadata": {
    "collapsed": true
   },
   "outputs": [],
   "source": [
    "from bs4 import BeautifulSoup"
   ]
  },
  {
   "cell_type": "code",
   "execution_count": 6,
   "metadata": {
    "collapsed": true
   },
   "outputs": [],
   "source": [
    "import requests"
   ]
  },
  {
   "cell_type": "code",
   "execution_count": 7,
   "metadata": {
    "collapsed": true
   },
   "outputs": [],
   "source": [
    "from tqdm import tqdm_notebook"
   ]
  },
  {
   "cell_type": "markdown",
   "metadata": {},
   "source": [
    "### link_list twitch metric"
   ]
  },
  {
   "cell_type": "code",
   "execution_count": 10,
   "metadata": {},
   "outputs": [],
   "source": [
    "df_streamList = pd.DataFrame(columns = [\"user_name\", \"user_id\", \"Nickname\", \"Link\"])\n",
    "\n",
    "for page in [1, 2, 3, 4, 5]:\n",
    "    rank_url = \"https://www.twitchmetrics.net/channels/follower?lang=ko&page=\" + str(page)\n",
    "    response = requests.get(rank_url)\n",
    "    dom = BeautifulSoup(response.content, \"html.parser\")\n",
    "    dom_stream_list = dom.select(\".list-group .list-group-item .d-flex.mb-2.flex-wrap a\")\n",
    "    \n",
    "    for dom_stream in dom_stream_list:\n",
    "        link = dom_stream.get(\"href\")\n",
    "        user_id = link.split(\"-\")[0].split(\"/\")[-1]\n",
    "        user_name = link.split(\"-\")[-1]\n",
    "        name = dom_stream.text.strip().split(\" \")[0]\n",
    "        df_streamList.loc[len(df_streamList)] = {\"user_id\" : user_id, \"user_name\" : user_name, \"Nickname\" : name, \"Link\" : link}"
   ]
  },
  {
   "cell_type": "code",
   "execution_count": 11,
   "metadata": {
    "collapsed": true
   },
   "outputs": [],
   "source": [
    "df_streamList.to_csv(\"data/streamList.csv\", index = False, encoding=\"utf_8\")"
   ]
  },
  {
   "cell_type": "code",
   "execution_count": 14,
   "metadata": {},
   "outputs": [
    {
     "data": {
      "text/html": [
       "<div>\n",
       "<style>\n",
       "    .dataframe thead tr:only-child th {\n",
       "        text-align: right;\n",
       "    }\n",
       "\n",
       "    .dataframe thead th {\n",
       "        text-align: left;\n",
       "    }\n",
       "\n",
       "    .dataframe tbody tr th {\n",
       "        vertical-align: top;\n",
       "    }\n",
       "</style>\n",
       "<table border=\"1\" class=\"dataframe\">\n",
       "  <thead>\n",
       "    <tr style=\"text-align: right;\">\n",
       "      <th></th>\n",
       "      <th>user_name</th>\n",
       "      <th>user_id</th>\n",
       "      <th>Nickname</th>\n",
       "      <th>Link</th>\n",
       "    </tr>\n",
       "  </thead>\n",
       "  <tbody>\n",
       "    <tr>\n",
       "      <th>0</th>\n",
       "      <td>faker</td>\n",
       "      <td>43691</td>\n",
       "      <td>Faker</td>\n",
       "      <td>/c/43691-faker</td>\n",
       "    </tr>\n",
       "    <tr>\n",
       "      <th>1</th>\n",
       "      <td>lol_peanut</td>\n",
       "      <td>138539768</td>\n",
       "      <td>lol_peanut</td>\n",
       "      <td>/c/138539768-lol_peanut</td>\n",
       "    </tr>\n",
       "    <tr>\n",
       "      <th>2</th>\n",
       "      <td>mister903</td>\n",
       "      <td>147090450</td>\n",
       "      <td>갱생레바</td>\n",
       "      <td>/c/147090450-mister903</td>\n",
       "    </tr>\n",
       "    <tr>\n",
       "      <th>3</th>\n",
       "      <td>bang</td>\n",
       "      <td>143563349</td>\n",
       "      <td>bang</td>\n",
       "      <td>/c/143563349-bang</td>\n",
       "    </tr>\n",
       "    <tr>\n",
       "      <th>4</th>\n",
       "      <td>hanryang1125</td>\n",
       "      <td>103825127</td>\n",
       "      <td>풍월량</td>\n",
       "      <td>/c/103825127-hanryang1125</td>\n",
       "    </tr>\n",
       "  </tbody>\n",
       "</table>\n",
       "</div>"
      ],
      "text/plain": [
       "      user_name    user_id    Nickname                       Link\n",
       "0         faker      43691       Faker             /c/43691-faker\n",
       "1    lol_peanut  138539768  lol_peanut    /c/138539768-lol_peanut\n",
       "2     mister903  147090450        갱생레바     /c/147090450-mister903\n",
       "3          bang  143563349        bang          /c/143563349-bang\n",
       "4  hanryang1125  103825127         풍월량  /c/103825127-hanryang1125"
      ]
     },
     "execution_count": 14,
     "metadata": {},
     "output_type": "execute_result"
    }
   ],
   "source": [
    "df_streamList = pd.read_csv(\"data/streamList.csv\")\n",
    "df_streamList.head()"
   ]
  },
  {
   "cell_type": "markdown",
   "metadata": {},
   "source": [
    "### get twitch metric info"
   ]
  },
  {
   "cell_type": "markdown",
   "metadata": {},
   "source": [
    "##### Basic info"
   ]
  },
  {
   "cell_type": "code",
   "execution_count": 46,
   "metadata": {
    "collapsed": true
   },
   "outputs": [],
   "source": [
    "from selenium import webdriver"
   ]
  },
  {
   "cell_type": "code",
   "execution_count": 47,
   "metadata": {
    "collapsed": true
   },
   "outputs": [],
   "source": [
    "li_stream_basic_info = [\"Name\", \"user_id\", \"followers\", \"followers_diff\", \\\n",
    "                       \"viwer_avg\", \"viwer_avg_diff\", \\\n",
    "                       \"peak_viwer\", \"peak_viwer_diff\", \\\n",
    "                       \"hour\", \"hour_diff\", \\\n",
    "                       \"mature_content\", \"language\", \"join_date\"]"
   ]
  },
  {
   "cell_type": "code",
   "execution_count": 48,
   "metadata": {
    "collapsed": true
   },
   "outputs": [],
   "source": [
    "def crawling_stream_info(df_list):\n",
    "    df_stream_basic_info = pd.DataFrame(columns = li_stream_basic_info)\n",
    "    driver = webdriver.Chrome()\n",
    "    \n",
    "    for idx, Link in tqdm_notebook(enumerate(df_list[\"Link\"])):\n",
    "        s_stream_basic_info = pd.Series(index = li_stream_basic_info)\n",
    "        \n",
    "        stream_url = \"https://www.twitchmetrics.net\" + Link\n",
    "        driver.get(stream_url)\n",
    "\n",
    "        stream_details = driver.find_elements_by_css_selector(\"div.card-block dd.col-6\")\n",
    "        stream_this_week = driver.find_elements_by_css_selector(\"div.card-block samp\")\n",
    "        \n",
    "        s_stream_basic_info[\"Name\"] = df_list[\"Name\"][idx]\n",
    "        s_stream_basic_info[\"user_id\"] = df_list[\"Link\"][idx].split(\"-\")[1]\n",
    "        \n",
    "        s_stream_basic_info[\"followers\"] = stream_this_week[0].text\n",
    "        s_stream_basic_info[\"followers_diff\"] = stream_this_week[1].text.split(\" \")[0]\n",
    "        s_stream_basic_info[\"viwer_avg\"] = stream_this_week[2].text\n",
    "        s_stream_basic_info[\"viwer_avg_diff\"] = stream_this_week[3].text.split(\" \")[0]\n",
    "        s_stream_basic_info[\"peak_viwer\"] = stream_this_week[4].text\n",
    "        s_stream_basic_info[\"peak_viwer_diff\"] = stream_this_week[5].text.split(\" \")[0]\n",
    "        s_stream_basic_info[\"hour\"] = stream_this_week[6].text\n",
    "        s_stream_basic_info[\"hour_diff\"] = stream_this_week[7].text.split(\" \")[0]\n",
    "\n",
    "        s_stream_basic_info[\"mature_content\"] = stream_details[0].text\n",
    "        s_stream_basic_info[\"language\"] = stream_details[1].text\n",
    "        s_stream_basic_info[\"join_date\"] = stream_details[2].text\n",
    "        \n",
    "        df_stream_basic_info.loc[len(df_stream_basic_info)] = s_stream_basic_info\n",
    "        \n",
    "    driver.close()\n",
    "    \n",
    "    return df_stream_basic_info"
   ]
  },
  {
   "cell_type": "code",
   "execution_count": 49,
   "metadata": {},
   "outputs": [
    {
     "data": {
      "application/vnd.jupyter.widget-view+json": {
       "model_id": "0dbf1e4e677b4b1eb0d075348723d073",
       "version_major": 2,
       "version_minor": 0
      },
      "text/html": [
       "<p>Failed to display Jupyter Widget of type <code>HBox</code>.</p>\n",
       "<p>\n",
       "  If you're reading this message in the Jupyter Notebook or JupyterLab Notebook, it may mean\n",
       "  that the widgets JavaScript is still loading. If this message persists, it\n",
       "  likely means that the widgets JavaScript library is either not installed or\n",
       "  not enabled. See the <a href=\"https://ipywidgets.readthedocs.io/en/stable/user_install.html\">Jupyter\n",
       "  Widgets Documentation</a> for setup instructions.\n",
       "</p>\n",
       "<p>\n",
       "  If you're reading this message in another frontend (for example, a static\n",
       "  rendering on GitHub or <a href=\"https://nbviewer.jupyter.org/\">NBViewer</a>),\n",
       "  it may mean that your frontend doesn't currently support widgets.\n",
       "</p>\n"
      ],
      "text/plain": [
       "HBox(children=(IntProgress(value=1, bar_style='info', max=1), HTML(value='')))"
      ]
     },
     "metadata": {},
     "output_type": "display_data"
    },
    {
     "name": "stdout",
     "output_type": "stream",
     "text": [
      "\n",
      "\n"
     ]
    }
   ],
   "source": [
    "df_stream_info = crawling_stream_info(df_stream_link)"
   ]
  },
  {
   "cell_type": "code",
   "execution_count": 50,
   "metadata": {
    "collapsed": true
   },
   "outputs": [],
   "source": [
    "# df_stream_basic_info.to_csv(\"data/stream_basic_info.csv\",index = False)"
   ]
  },
  {
   "cell_type": "markdown",
   "metadata": {},
   "source": [
    "##### crawling_viewship_value"
   ]
  },
  {
   "cell_type": "code",
   "execution_count": 61,
   "metadata": {
    "collapsed": true
   },
   "outputs": [],
   "source": [
    "li_stream_viewship = [\"time\", \"viewer\", \"theme\"]"
   ]
  },
  {
   "cell_type": "code",
   "execution_count": 62,
   "metadata": {
    "collapsed": true
   },
   "outputs": [],
   "source": [
    "def crawling_stream_viewship(idx, Name, Link):\n",
    "    stream_viewship_url = \"https://www.twitchmetrics.net\" + Link + \"/recent_viewership_values\"\n",
    "    df_stream_viewship = pd.DataFrame(columns = li_stream_viewship)\n",
    "    \n",
    "    dom_stream_viewship = requests.get(stream_viewship_url)\n",
    "    stream_viewships = dom_stream_viewship.json()\n",
    "    \n",
    "    for viewship in stream_viewships:\n",
    "        df_stream_viewship.loc[len(df_stream_viewship)] = {\"time\" : viewship[0], \"viewer\" : viewship[1], \"theme\" : viewship[2]}\n",
    "    \n",
    "    path_save = \"data/viewship/\" + str(idx) + \"_\" + Name + '.csv'\n",
    "    \n",
    "    df_stream_viewship.to_csv(path_save, index = False)"
   ]
  },
  {
   "cell_type": "markdown",
   "metadata": {},
   "source": [
    "##### crawling_history"
   ]
  },
  {
   "cell_type": "code",
   "execution_count": 63,
   "metadata": {
    "collapsed": true
   },
   "outputs": [],
   "source": [
    "li_stream_history = [\"start_time\", \"end_time\", \"theme\", \"elapsed_time\", \"viewer_avg\", \"total_follower\", \"total_viewer\"]"
   ]
  },
  {
   "cell_type": "code",
   "execution_count": 64,
   "metadata": {
    "collapsed": true
   },
   "outputs": [],
   "source": [
    "def crawling_stream_history(idx, Name, Link):\n",
    "    stream_history_url = \"https://www.twitchmetrics.net\" + Link + \"/stream_history_values\"\n",
    "    df_stream_history = pd.DataFrame(columns = li_stream_history)\n",
    "    \n",
    "    dom_stream_history = requests.get(stream_history_url)\n",
    "    stream_histories = dom_stream_history.json()\n",
    "    \n",
    "    for history in stream_histories:\n",
    "        df_stream_history.loc[len(df_stream_history)] = {\"start_time\" : history[0], \"end_time\" : history[1], \\\n",
    "                                                         \"theme\" : history[2], \"elapsed_time\" : history[3], \\\n",
    "                                                         \"viewer_avg\" : history[4], \"total_follower\" : history[5], \\\n",
    "                                                         \"total_viewer\" : history[6]}\n",
    "    \n",
    "    path_save = \"data/history/\" + str(idx) + \"_\" + Name + '.csv'\n",
    "    \n",
    "    df_stream_history.to_csv(path_save, index = False)"
   ]
  },
  {
   "cell_type": "markdown",
   "metadata": {},
   "source": [
    "### Crawling"
   ]
  },
  {
   "cell_type": "code",
   "execution_count": 72,
   "metadata": {},
   "outputs": [
    {
     "data": {
      "application/vnd.jupyter.widget-view+json": {
       "model_id": "9799005c8fad46e986637bf349a97492",
       "version_major": 2,
       "version_minor": 0
      },
      "text/html": [
       "<p>Failed to display Jupyter Widget of type <code>HBox</code>.</p>\n",
       "<p>\n",
       "  If you're reading this message in the Jupyter Notebook or JupyterLab Notebook, it may mean\n",
       "  that the widgets JavaScript is still loading. If this message persists, it\n",
       "  likely means that the widgets JavaScript library is either not installed or\n",
       "  not enabled. See the <a href=\"https://ipywidgets.readthedocs.io/en/stable/user_install.html\">Jupyter\n",
       "  Widgets Documentation</a> for setup instructions.\n",
       "</p>\n",
       "<p>\n",
       "  If you're reading this message in another frontend (for example, a static\n",
       "  rendering on GitHub or <a href=\"https://nbviewer.jupyter.org/\">NBViewer</a>),\n",
       "  it may mean that your frontend doesn't currently support widgets.\n",
       "</p>\n"
      ],
      "text/plain": [
       "HBox(children=(IntProgress(value=0), HTML(value='')))"
      ]
     },
     "metadata": {},
     "output_type": "display_data"
    },
    {
     "name": "stdout",
     "output_type": "stream",
     "text": [
      "\n"
     ]
    }
   ],
   "source": [
    "for idx in tqdm_notebook(range(len(df_stream_link))):\n",
    "    name = df_streamList[\"user_id\"][idx]\n",
    "    link = df_streamList[\"Link\"][idx]\n",
    "    \n",
    "    crawling_stream_viewship(idx, name, link)\n",
    "    crawling_stream_history(idx, name, link)"
   ]
  },
  {
   "cell_type": "markdown",
   "metadata": {},
   "source": [
    "- 방송 시작 시간\n",
    "- 방송 종료 시간\n",
    "- 방송 종류\n",
    "- 방송 시간(second)\n",
    "- viewer(average)\n",
    "- total followers\n",
    "- total viewer"
   ]
  }
 ],
 "metadata": {
  "kernelspec": {
   "display_name": "Python 3",
   "language": "python",
   "name": "python3"
  },
  "language_info": {
   "codemirror_mode": {
    "name": "ipython",
    "version": 3
   },
   "file_extension": ".py",
   "mimetype": "text/x-python",
   "name": "python",
   "nbconvert_exporter": "python",
   "pygments_lexer": "ipython3",
   "version": "3.6.3"
  }
 },
 "nbformat": 4,
 "nbformat_minor": 2
}
