{
 "cells": [
  {
   "cell_type": "code",
   "execution_count": 1,
   "metadata": {},
   "outputs": [],
   "source": [
    "from bs4 import BeautifulSoup"
   ]
  },
  {
   "cell_type": "code",
   "execution_count": 60,
   "metadata": {},
   "outputs": [],
   "source": [
    "import requests"
   ]
  },
  {
   "cell_type": "code",
   "execution_count": 63,
   "metadata": {},
   "outputs": [],
   "source": [
    "from tqdm import tqdm_notebook"
   ]
  },
  {
   "cell_type": "markdown",
   "metadata": {},
   "source": [
    "### link_list twitch metric"
   ]
  },
  {
   "cell_type": "code",
   "execution_count": 3,
   "metadata": {},
   "outputs": [],
   "source": [
    "df_streamList = pd.DataFrame(columns = [\"Name\", \"Link\"])"
   ]
  },
  {
   "cell_type": "code",
   "execution_count": 4,
   "metadata": {},
   "outputs": [],
   "source": [
    "for page in [1, 2]:\n",
    "    rank_url = \"https://www.twitchmetrics.net/channels/viewership?lang=ko&page=\" + str(page)\n",
    "    response = requests.get(rank_url)\n",
    "    dom = BeautifulSoup(response.content, \"html.parser\")\n",
    "    dom_stream_list = dom.select(\".list-group .list-group-item .d-flex.mb-2.flex-wrap a\")\n",
    "    \n",
    "    for dom_stream in dom_stream_list:\n",
    "        link = dom_stream.get(\"href\")\n",
    "        name = dom_stream.text.strip().split(\" \")[0]\n",
    "        df_streamList.loc[len(df_streamList)] = {\"Name\" : name, \"Link\" : link}"
   ]
  },
  {
   "cell_type": "code",
   "execution_count": 5,
   "metadata": {},
   "outputs": [
    {
     "data": {
      "text/html": [
       "<div>\n",
       "<style>\n",
       "    .dataframe thead tr:only-child th {\n",
       "        text-align: right;\n",
       "    }\n",
       "\n",
       "    .dataframe thead th {\n",
       "        text-align: left;\n",
       "    }\n",
       "\n",
       "    .dataframe tbody tr th {\n",
       "        vertical-align: top;\n",
       "    }\n",
       "</style>\n",
       "<table border=\"1\" class=\"dataframe\">\n",
       "  <thead>\n",
       "    <tr style=\"text-align: right;\">\n",
       "      <th></th>\n",
       "      <th>Name</th>\n",
       "      <th>Link</th>\n",
       "    </tr>\n",
       "  </thead>\n",
       "  <tbody>\n",
       "    <tr>\n",
       "      <th>0</th>\n",
       "      <td>풍월량</td>\n",
       "      <td>/c/103825127-hanryang1125</td>\n",
       "    </tr>\n",
       "    <tr>\n",
       "      <th>1</th>\n",
       "      <td>따효니</td>\n",
       "      <td>/c/102381201-ddahyoni</td>\n",
       "    </tr>\n",
       "    <tr>\n",
       "      <th>2</th>\n",
       "      <td>overwatchleague_kr</td>\n",
       "      <td>/c/188864445-overwatchleague_kr</td>\n",
       "    </tr>\n",
       "    <tr>\n",
       "      <th>3</th>\n",
       "      <td>서새봄냥</td>\n",
       "      <td>/c/30904062-saddummy</td>\n",
       "    </tr>\n",
       "    <tr>\n",
       "      <th>4</th>\n",
       "      <td>LCK_Korea</td>\n",
       "      <td>/c/190835892-lck_korea</td>\n",
       "    </tr>\n",
       "  </tbody>\n",
       "</table>\n",
       "</div>"
      ],
      "text/plain": [
       "                 Name                             Link\n",
       "0                 풍월량        /c/103825127-hanryang1125\n",
       "1                 따효니            /c/102381201-ddahyoni\n",
       "2  overwatchleague_kr  /c/188864445-overwatchleague_kr\n",
       "3                서새봄냥             /c/30904062-saddummy\n",
       "4           LCK_Korea           /c/190835892-lck_korea"
      ]
     },
     "execution_count": 5,
     "metadata": {},
     "output_type": "execute_result"
    }
   ],
   "source": [
    "df_streamList.head()"
   ]
  },
  {
   "cell_type": "markdown",
   "metadata": {},
   "source": [
    "### Function"
   ]
  },
  {
   "cell_type": "code",
   "execution_count": 56,
   "metadata": {},
   "outputs": [],
   "source": [
    "li_stream_basic_info = [\"Name\", \"followers\", \"followers_diff\", \\\n",
    "                       \"viwer_avg\", \"viwer_avg_diff\", \\\n",
    "                       \"peak_viwer\", \"peak_viwer_diff\", \\\n",
    "                       \"hour\", \"hour_diff\", \\\n",
    "                       \"mature_content\", \"language\", \"join_date\"]"
   ]
  },
  {
   "cell_type": "markdown",
   "metadata": {},
   "source": [
    "### get twitch metric info"
   ]
  },
  {
   "cell_type": "markdown",
   "metadata": {},
   "source": [
    "##### Basic info"
   ]
  },
  {
   "cell_type": "code",
   "execution_count": 57,
   "metadata": {},
   "outputs": [],
   "source": [
    "from selenium import webdriver"
   ]
  },
  {
   "cell_type": "code",
   "execution_count": 64,
   "metadata": {},
   "outputs": [],
   "source": [
    "def crawling_stream_basic_info(df_list):\n",
    "    df_stream_basic_info = pd.DataFrame(columns = li_stream_basic_info)\n",
    "    driver = webdriver.Chrome()\n",
    "    \n",
    "    for idx, Link in tqdm_notebook(enumerate(df_list[\"Link\"])):\n",
    "        s_stream_basic_info = pd.Series(index = li_stream_basic_info)\n",
    "        \n",
    "        stream_url = \"https://www.twitchmetrics.net\" + Link\n",
    "        driver.get(stream_url)\n",
    "\n",
    "        stream_details = driver.find_elements_by_css_selector(\"div.card-block dd.col-6\")\n",
    "        stream_this_week = driver.find_elements_by_css_selector(\"div.card-block samp\")\n",
    "        \n",
    "        s_stream_basic_info[\"Name\"] = df_list[\"Name\"][idx]\n",
    "        \n",
    "        s_stream_basic_info[\"followers\"] = stream_this_week[0].text\n",
    "        s_stream_basic_info[\"followers_diff\"] = stream_this_week[1].text.split(\" \")[0]\n",
    "        s_stream_basic_info[\"viwer_avg\"] = stream_this_week[2].text\n",
    "        s_stream_basic_info[\"viwer_avg_diff\"] = stream_this_week[3].text.split(\" \")[0]\n",
    "        s_stream_basic_info[\"peak_viwer\"] = stream_this_week[4].text\n",
    "        s_stream_basic_info[\"peak_viwer_diff\"] = stream_this_week[5].text.split(\" \")[0]\n",
    "        s_stream_basic_info[\"hour\"] = stream_this_week[6].text\n",
    "        s_stream_basic_info[\"hour_diff\"] = stream_this_week[7].text.split(\" \")[0]\n",
    "\n",
    "        s_stream_basic_info[\"mature_content\"] = stream_details[0].text\n",
    "        s_stream_basic_info[\"language\"] = stream_details[1].text\n",
    "        s_stream_basic_info[\"join_date\"] = stream_details[2].text\n",
    "        \n",
    "        df_stream_basic_info.loc[len(df_stream_basic_info)] = s_stream_basic_info\n",
    "        \n",
    "    driver.close()\n",
    "    \n",
    "    return df_stream_basic_info"
   ]
  },
  {
   "cell_type": "code",
   "execution_count": 66,
   "metadata": {},
   "outputs": [
    {
     "data": {
      "application/vnd.jupyter.widget-view+json": {
       "model_id": "cc09713abb374ffdbb8360d9c5abfd4b",
       "version_major": 2,
       "version_minor": 0
      },
      "text/html": [
       "<p>Failed to display Jupyter Widget of type <code>HBox</code>.</p>\n",
       "<p>\n",
       "  If you're reading this message in the Jupyter Notebook or JupyterLab Notebook, it may mean\n",
       "  that the widgets JavaScript is still loading. If this message persists, it\n",
       "  likely means that the widgets JavaScript library is either not installed or\n",
       "  not enabled. See the <a href=\"https://ipywidgets.readthedocs.io/en/stable/user_install.html\">Jupyter\n",
       "  Widgets Documentation</a> for setup instructions.\n",
       "</p>\n",
       "<p>\n",
       "  If you're reading this message in another frontend (for example, a static\n",
       "  rendering on GitHub or <a href=\"https://nbviewer.jupyter.org/\">NBViewer</a>),\n",
       "  it may mean that your frontend doesn't currently support widgets.\n",
       "</p>\n"
      ],
      "text/plain": [
       "HBox(children=(IntProgress(value=1, bar_style='info', max=1), HTML(value='')))"
      ]
     },
     "metadata": {},
     "output_type": "display_data"
    },
    {
     "name": "stdout",
     "output_type": "stream",
     "text": [
      "\n",
      "\n"
     ]
    }
   ],
   "source": [
    "df_stream_basic_info = crawling_stream_basic_info(df_streamList)"
   ]
  },
  {
   "cell_type": "code",
   "execution_count": 71,
   "metadata": {},
   "outputs": [],
   "source": [
    "df_stream_basic_info.to_csv(\"data/stream_basic_info.csv\",index = False)"
   ]
  },
  {
   "cell_type": "markdown",
   "metadata": {},
   "source": [
    "##### crawling_viewship_value"
   ]
  },
  {
   "cell_type": "code",
   "execution_count": 102,
   "metadata": {},
   "outputs": [],
   "source": [
    "li_stream_viewship = [\"time\", \"viewer\", \"theme\"]"
   ]
  },
  {
   "cell_type": "code",
   "execution_count": 103,
   "metadata": {},
   "outputs": [],
   "source": [
    "def crawling_stream_viewship(idx, Name, Link):\n",
    "    stream_viewship_url = \"https://www.twitchmetrics.net\" + Link + \"/recent_viewership_values\"\n",
    "    df_stream_viewship = pd.DataFrame(columns = li_stream_viewship)\n",
    "    \n",
    "    dom_stream_viewship = requests.get(stream_viewship_url)\n",
    "    stream_viewships = dom_stream_viewship.json()\n",
    "    \n",
    "    for viewship in stream_viewships:\n",
    "        df_stream_viewship.loc[len(df_stream_viewship)] = {\"time\" : viewship[0], \"viewer\" : viewship[1], \"theme\" : viewship[2]}\n",
    "    \n",
    "    path_save = \"data/viewship/\" + str(idx) + \"_\" + Name + '.csv'\n",
    "    \n",
    "    df_stream_viewship.to_csv(path_save, index = False)"
   ]
  },
  {
   "cell_type": "markdown",
   "metadata": {},
   "source": [
    "##### crawling_history"
   ]
  },
  {
   "cell_type": "code",
   "execution_count": 104,
   "metadata": {},
   "outputs": [],
   "source": [
    "li_stream_history = [\"start_time\", \"end_time\", \"theme\", \"elapsed_time\", \"viewer_avg\", \"total_follower\", \"total_viewer\"]"
   ]
  },
  {
   "cell_type": "code",
   "execution_count": 105,
   "metadata": {},
   "outputs": [],
   "source": [
    "def crawling_stream_history(idx, Name, Link):\n",
    "    stream_history_url = \"https://www.twitchmetrics.net\" + Link + \"/stream_history_values\"\n",
    "    df_stream_history = pd.DataFrame(columns = li_stream_history)\n",
    "    \n",
    "    dom_stream_history = requests.get(stream_history_url)\n",
    "    stream_histories = dom_stream_history.json()\n",
    "    \n",
    "    for history in stream_histories:\n",
    "        df_stream_history.loc[len(df_stream_history)] = {\"start_time\" : history[0], \"end_time\" : history[1], \\\n",
    "                                                         \"theme\" : history[2], \"elapsed_time\" : history[3], \\\n",
    "                                                         \"viewer_avg\" : history[4], \"total_follower\" : history[5], \\\n",
    "                                                         \"total_viewer\" : history[6]}\n",
    "    \n",
    "    path_save = \"data/history/\" + str(idx) + \"_\" + Name + '.csv'\n",
    "    \n",
    "    df_stream_history.to_csv(path_save, index = False)"
   ]
  },
  {
   "cell_type": "markdown",
   "metadata": {},
   "source": [
    "### Crawling"
   ]
  },
  {
   "cell_type": "code",
   "execution_count": 106,
   "metadata": {},
   "outputs": [
    {
     "data": {
      "application/vnd.jupyter.widget-view+json": {
       "model_id": "26ae10352e40411fb8ea0d794cdf2b07",
       "version_major": 2,
       "version_minor": 0
      },
      "text/html": [
       "<p>Failed to display Jupyter Widget of type <code>HBox</code>.</p>\n",
       "<p>\n",
       "  If you're reading this message in the Jupyter Notebook or JupyterLab Notebook, it may mean\n",
       "  that the widgets JavaScript is still loading. If this message persists, it\n",
       "  likely means that the widgets JavaScript library is either not installed or\n",
       "  not enabled. See the <a href=\"https://ipywidgets.readthedocs.io/en/stable/user_install.html\">Jupyter\n",
       "  Widgets Documentation</a> for setup instructions.\n",
       "</p>\n",
       "<p>\n",
       "  If you're reading this message in another frontend (for example, a static\n",
       "  rendering on GitHub or <a href=\"https://nbviewer.jupyter.org/\">NBViewer</a>),\n",
       "  it may mean that your frontend doesn't currently support widgets.\n",
       "</p>\n"
      ],
      "text/plain": [
       "HBox(children=(IntProgress(value=0), HTML(value='')))"
      ]
     },
     "metadata": {},
     "output_type": "display_data"
    }
   ],
   "source": [
    "for idx in tqdm_notebook(range(len(df_streamList))):\n",
    "    name = df_streamList[\"Name\"][idx]\n",
    "    link = df_streamList[\"Link\"][idx]\n",
    "    \n",
    "    crawling_stream_viewship(idx, name, link)\n",
    "    crawling_stream_history(idx, name, link)"
   ]
  },
  {
   "cell_type": "markdown",
   "metadata": {},
   "source": [
    "- 방송 시작 시간\n",
    "- 방송 종료 시간\n",
    "- 방송 종류\n",
    "- 방송 시간(second)\n",
    "- viewer(average)\n",
    "- total followers\n",
    "- total viewer"
   ]
  }
 ],
 "metadata": {
  "kernelspec": {
   "display_name": "Python 3",
   "language": "python",
   "name": "python3"
  },
  "language_info": {
   "codemirror_mode": {
    "name": "ipython",
    "version": 3
   },
   "file_extension": ".py",
   "mimetype": "text/x-python",
   "name": "python",
   "nbconvert_exporter": "python",
   "pygments_lexer": "ipython3",
   "version": "3.6.3"
  }
 },
 "nbformat": 4,
 "nbformat_minor": 2
}
