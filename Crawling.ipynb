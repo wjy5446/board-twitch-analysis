{
 "cells": [
  {
   "cell_type": "markdown",
   "metadata": {},
   "source": [
    "# Crawling TGD"
   ]
  },
  {
   "cell_type": "markdown",
   "metadata": {},
   "source": [
    "### streamer ID 리스트 crawling"
   ]
  },
  {
   "cell_type": "code",
   "execution_count": 1,
   "metadata": {},
   "outputs": [],
   "source": [
    "import pandas as pd\n",
    "from bs4 import BeautifulSoup\n",
    "import requests"
   ]
  },
  {
   "cell_type": "code",
   "execution_count": 2,
   "metadata": {},
   "outputs": [],
   "source": [
    "response = requests.get(\"https://tgd.kr/pages/allboard\")"
   ]
  },
  {
   "cell_type": "code",
   "execution_count": 3,
   "metadata": {},
   "outputs": [],
   "source": [
    "dom = BeautifulSoup(response.content, \"html.parser\")\n",
    "li_board_link = dom.select(\"#board-list-columns-wrapper div.board-link \")"
   ]
  },
  {
   "cell_type": "code",
   "execution_count": 4,
   "metadata": {},
   "outputs": [],
   "source": [
    "df_board_link = pd.DataFrame(columns = [\"Name\", \"link\"])\n",
    "\n",
    "idx = 0\n",
    "for link in li_board_link:\n",
    "    if len(link[\"class\"]) == 2:\n",
    "        df_board_link.loc[idx] = {\"Name\" :  link.select_one(\"a\").text, \"link\" : link.select_one(\"a\").get('href')}\n",
    "        idx += 1"
   ]
  },
  {
   "cell_type": "code",
   "execution_count": 59,
   "metadata": {},
   "outputs": [
    {
     "data": {
      "text/html": [
       "<div>\n",
       "<style>\n",
       "    .dataframe thead tr:only-child th {\n",
       "        text-align: right;\n",
       "    }\n",
       "\n",
       "    .dataframe thead th {\n",
       "        text-align: left;\n",
       "    }\n",
       "\n",
       "    .dataframe tbody tr th {\n",
       "        vertical-align: top;\n",
       "    }\n",
       "</style>\n",
       "<table border=\"1\" class=\"dataframe\">\n",
       "  <thead>\n",
       "    <tr style=\"text-align: right;\">\n",
       "      <th></th>\n",
       "      <th>Name</th>\n",
       "      <th>link</th>\n",
       "    </tr>\n",
       "  </thead>\n",
       "  <tbody>\n",
       "    <tr>\n",
       "      <th>1051</th>\n",
       "      <td>히오스풍뎅이</td>\n",
       "      <td>/dol0061</td>\n",
       "    </tr>\n",
       "    <tr>\n",
       "      <th>1052</th>\n",
       "      <td>히유님</td>\n",
       "      <td>/980721_s2</td>\n",
       "    </tr>\n",
       "    <tr>\n",
       "      <th>1053</th>\n",
       "      <td>히쩡</td>\n",
       "      <td>/eh0220</td>\n",
       "    </tr>\n",
       "    <tr>\n",
       "      <th>1054</th>\n",
       "      <td>히티치이</td>\n",
       "      <td>/heetich</td>\n",
       "    </tr>\n",
       "    <tr>\n",
       "      <th>1055</th>\n",
       "      <td>힘디언</td>\n",
       "      <td>/himdian</td>\n",
       "    </tr>\n",
       "  </tbody>\n",
       "</table>\n",
       "</div>"
      ],
      "text/plain": [
       "        Name        link\n",
       "1051  히오스풍뎅이    /dol0061\n",
       "1052     히유님  /980721_s2\n",
       "1053      히쩡     /eh0220\n",
       "1054    히티치이    /heetich\n",
       "1055     힘디언    /himdian"
      ]
     },
     "execution_count": 59,
     "metadata": {},
     "output_type": "execute_result"
    }
   ],
   "source": [
    "df_board_link.tail()"
   ]
  },
  {
   "cell_type": "markdown",
   "metadata": {},
   "source": [
    "### 게시판 크롤링"
   ]
  },
  {
   "cell_type": "markdown",
   "metadata": {},
   "source": [
    "- 일별 게시글 \n",
    "- 제목, id, 글작성자, 댓글 수, 좋아요, 조회수\n",
    "- input : 해당 link"
   ]
  },
  {
   "cell_type": "code",
   "execution_count": 71,
   "metadata": {},
   "outputs": [],
   "source": [
    "board_address = \"https://tgd.kr\" + \"/yapyap30\""
   ]
  },
  {
   "cell_type": "code",
   "execution_count": 72,
   "metadata": {},
   "outputs": [],
   "source": [
    "response_baord = requests.get(board_address)"
   ]
  },
  {
   "cell_type": "code",
   "execution_count": 73,
   "metadata": {},
   "outputs": [],
   "source": [
    "dom = BeautifulSoup(response_baord.content, \"html.parser\")"
   ]
  },
  {
   "cell_type": "markdown",
   "metadata": {},
   "source": [
    "##### Get last page"
   ]
  },
  {
   "cell_type": "code",
   "execution_count": 74,
   "metadata": {},
   "outputs": [],
   "source": [
    "li_page = dom.select(\"#article-list-menu li a\")"
   ]
  },
  {
   "cell_type": "code",
   "execution_count": 77,
   "metadata": {},
   "outputs": [],
   "source": [
    "last_page = li_page[len(li_page)-1][\"data-ci-pagination-page\"]"
   ]
  },
  {
   "cell_type": "markdown",
   "metadata": {},
   "source": [
    "##### Get article link"
   ]
  },
  {
   "cell_type": "code",
   "execution_count": 85,
   "metadata": {},
   "outputs": [],
   "source": [
    "li_article = dom.select(\".article-list-row\")"
   ]
  },
  {
   "cell_type": "code",
   "execution_count": 90,
   "metadata": {},
   "outputs": [],
   "source": [
    "li_article_link = []\n",
    "for article in li_article:\n",
    "    if len(article[\"class\"])==3:\n",
    "        li_article_link.append(article.select_one(\"a\").get('href'))"
   ]
  },
  {
   "cell_type": "markdown",
   "metadata": {},
   "source": [
    "##### Get article info"
   ]
  },
  {
   "cell_type": "markdown",
   "metadata": {},
   "source": [
    "- 제목, id, 글작성자, 댓글 수, 좋아요, 조회수"
   ]
  },
  {
   "cell_type": "code",
   "execution_count": 158,
   "metadata": {},
   "outputs": [],
   "source": [
    "article_address = \"https://tgd.kr\" + \"/3804620\""
   ]
  },
  {
   "cell_type": "code",
   "execution_count": 159,
   "metadata": {},
   "outputs": [],
   "source": [
    "response_article = requests.get(article_address)"
   ]
  },
  {
   "cell_type": "code",
   "execution_count": 160,
   "metadata": {},
   "outputs": [],
   "source": [
    "dom = BeautifulSoup(response_article.content, \"html.parser\")"
   ]
  },
  {
   "cell_type": "code",
   "execution_count": 161,
   "metadata": {},
   "outputs": [],
   "source": [
    "title = dom.select_one(\"#article-info h2\").text.split(\"\\n\")[-1].strip()\n",
    "writer = dom.select_one(\"#article-info-writer strong\").text\n",
    "writer_time = dom.select_one(\"#article-time span\").get(\"title\")\n",
    "comment_num = dom.select_one(\"#article-comment\").text.strip()\n",
    "like_num = dom.select_one(\"#article-votes\").text.strip()\n",
    "hate_num = dom.select_one(\"#down\").text\n",
    "view_num = dom.select_one(\"#article-views\").text.strip()"
   ]
  },
  {
   "cell_type": "code",
   "execution_count": 162,
   "metadata": {},
   "outputs": [],
   "source": [
    "contents = dom.select_one(\"#article-content\").text"
   ]
  },
  {
   "cell_type": "markdown",
   "metadata": {},
   "source": [
    "##### Get comment"
   ]
  },
  {
   "cell_type": "code",
   "execution_count": 171,
   "metadata": {},
   "outputs": [],
   "source": [
    "comment_url = \"https://tgd.kr/board/comment_load\"+\"/3804620\""
   ]
  },
  {
   "cell_type": "code",
   "execution_count": 175,
   "metadata": {},
   "outputs": [],
   "source": [
    "comment_json = requests.get(comment_url).json()"
   ]
  },
  {
   "cell_type": "code",
   "execution_count": 188,
   "metadata": {},
   "outputs": [
    {
     "name": "stdout",
     "output_type": "stream",
     "text": [
      "임나영 설레여라얍\n",
      "매두 아 진자 ㅡㅡ\n",
      "왼손76 그냥 슈프림 맞음. 아부지랑 시켜먹었는데 고거맞음\n",
      "왼손76 대신 양념 범벅이라기보다는 최소한의 양념을 즉셔놓은 느낌이라 양념좀 많이 발라주세욘 ^ㅠ^\n",
      "\n",
      "이렇게 말하면 좋읍니다. 그리고 슈프림 라이스는 거르시구요.\n",
      "\n",
      "맛있는 저녁되시길\n",
      "매두 감사합니다 ㅠㅠㅠㅠ\n",
      "세무대리인 전 개인적으로 좀 물리더라구요. \n",
      "fhdhvk223 한 3개 먹으면 바로 상자닫음 \n",
      "감자깍기_첵스 ㄹㅇㅋㅋㅋㅋㅋㅋㅋㅋ\n",
      "브를르 콜라 맥주 계속 마셔줘야 오래 먹을 수 있슴니다\n",
      "매두 아 머야 님들 이거어케먹어요 속 부대껴서 죽을거같아요 으악\n",
      "콜라 다비웟는데도 개느끼\n",
      "얍얍똥조아 트또속\n",
      "하하햐하 ㅋㅋㅋㅋㅋㅋ얍얍이 입맛을 믿네\n",
      "배숙희라빙수 친절한 얍줌마들 ㄷ\n",
      "칙칙맨 슈프림 5조각 먹으면 질려서 친구들이랑 먹을때만 시킴 ㅋㅋ\n"
     ]
    }
   ],
   "source": [
    "for i in comment_json[\"data\"]:\n",
    "    print(i[\"nickname\"], BeautifulSoup(i[\"content\"], \"html.parser\").text)"
   ]
  },
  {
   "cell_type": "code",
   "execution_count": 136,
   "metadata": {},
   "outputs": [],
   "source": [
    "#comment-3804655 > div.reply-header > div.reply-writer.logged"
   ]
  },
  {
   "cell_type": "code",
   "execution_count": null,
   "metadata": {},
   "outputs": [],
   "source": [
    "#down"
   ]
  }
 ],
 "metadata": {
  "kernelspec": {
   "display_name": "Python 3",
   "language": "python",
   "name": "python3"
  },
  "language_info": {
   "codemirror_mode": {
    "name": "ipython",
    "version": 3
   },
   "file_extension": ".py",
   "mimetype": "text/x-python",
   "name": "python",
   "nbconvert_exporter": "python",
   "pygments_lexer": "ipython3",
   "version": "3.6.3"
  }
 },
 "nbformat": 4,
 "nbformat_minor": 2
}
