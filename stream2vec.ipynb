{
 "cells": [
  {
   "cell_type": "code",
   "execution_count": 59,
   "metadata": {
    "collapsed": true
   },
   "outputs": [],
   "source": [
    "import pandas as pd\n",
    "import pickle\n",
    "import requests\n",
    "from gensim.models import Word2Vec"
   ]
  },
  {
   "cell_type": "code",
   "execution_count": 21,
   "metadata": {},
   "outputs": [],
   "source": [
    "df_user_following_list = pd.read_csv(\"data/user_following_list.csv\")"
   ]
  },
  {
   "cell_type": "code",
   "execution_count": 25,
   "metadata": {},
   "outputs": [],
   "source": [
    "df_user_following_list = df_user_following_list.fillna(\"\")"
   ]
  },
  {
   "cell_type": "code",
   "execution_count": 27,
   "metadata": {},
   "outputs": [],
   "source": [
    "users = [df_user_following_list.following_list[idx].split(\",\")  for idx in range(len(df_user_following_list))]"
   ]
  },
  {
   "cell_type": "code",
   "execution_count": 33,
   "metadata": {},
   "outputs": [],
   "source": [
    "model = Word2Vec(users)"
   ]
  },
  {
   "cell_type": "code",
   "execution_count": 99,
   "metadata": {},
   "outputs": [
    {
     "data": {
      "text/plain": [
       "['114624961',\n",
       " '101735242',\n",
       " '164234001',\n",
       " '138009898',\n",
       " '116046835',\n",
       " '57769396',\n",
       " '114367508',\n",
       " '149397653',\n",
       " '160075583',\n",
       " '137407035',\n",
       " '93480887',\n",
       " '130445097',\n",
       " '128035304',\n",
       " '126126797',\n",
       " '112273354',\n",
       " '137922988']"
      ]
     },
     "execution_count": 99,
     "metadata": {},
     "output_type": "execute_result"
    }
   ],
   "source": [
    "users[999]"
   ]
  },
  {
   "cell_type": "code",
   "execution_count": 104,
   "metadata": {},
   "outputs": [
    {
     "name": "stdout",
     "output_type": "stream",
     "text": [
      "테이프2\n",
      "짜누\n",
      "기도\n",
      "용봉탕\n",
      "반짝이임\n",
      "누구세요쨩\n",
      "모데카이저\n",
      "루나_\n",
      "도현_\n",
      "명훈\n"
     ]
    }
   ],
   "source": [
    "similarlist = model.most_similar(\"130445097\")\n",
    "\n",
    "for similar in similarlist:\n",
    "    url_channel_info = \"https://api.twitch.tv/kraken/channels/\" + str(similar[0])\n",
    "    response_channel_info = requests.get(url_channel_info, headers = header)\n",
    "    res_json = response_channel_info.json()\n",
    "    print(res_json[\"display_name\"])"
   ]
  },
  {
   "cell_type": "code",
   "execution_count": 84,
   "metadata": {},
   "outputs": [
    {
     "data": {
      "text/plain": [
       "{'_id': '147607576',\n",
       " 'broadcaster_language': 'ko',\n",
       " 'broadcaster_type': '',\n",
       " 'created_at': '2017-02-12T14:22:41Z',\n",
       " 'description': '이아이디는 방송을 하지않아요www.twich.tv/sutjr1006ㄱ ㄱ 여기루',\n",
       " 'display_name': '케이티폰',\n",
       " 'followers': 4034,\n",
       " 'game': 'League of Legends',\n",
       " 'language': 'ko',\n",
       " 'logo': 'https://static-cdn.jtvnw.net/user-default-pictures/cd618d3e-f14d-4960-b7cf-094231b04735-profile_image-300x300.jpg',\n",
       " 'mature': False,\n",
       " 'name': 'sutjr1004',\n",
       " 'partner': False,\n",
       " 'privacy_options_enabled': False,\n",
       " 'private_video': False,\n",
       " 'profile_banner': None,\n",
       " 'profile_banner_background_color': None,\n",
       " 'status': 'kt Pawn LOL ',\n",
       " 'updated_at': '2018-04-27T05:01:01Z',\n",
       " 'url': 'https://www.twitch.tv/sutjr1004',\n",
       " 'video_banner': None,\n",
       " 'views': 27628}"
      ]
     },
     "execution_count": 84,
     "metadata": {},
     "output_type": "execute_result"
    }
   ],
   "source": [
    "res_json"
   ]
  },
  {
   "cell_type": "code",
   "execution_count": null,
   "metadata": {},
   "outputs": [],
   "source": []
  }
 ],
 "metadata": {
  "kernelspec": {
   "display_name": "Python 3",
   "language": "python",
   "name": "python3"
  },
  "language_info": {
   "codemirror_mode": {
    "name": "ipython",
    "version": 3
   },
   "file_extension": ".py",
   "mimetype": "text/x-python",
   "name": "python",
   "nbconvert_exporter": "python",
   "pygments_lexer": "ipython3",
   "version": "3.6.3"
  }
 },
 "nbformat": 4,
 "nbformat_minor": 2
}
